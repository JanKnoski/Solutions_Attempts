{
 "cells": [
  {
   "cell_type": "markdown",
   "id": "30445aa5-380c-4584-a45b-d80e70ee2958",
   "metadata": {},
   "source": [
    "# My Jupyter Notebook on IBM Watson Studio"
   ]
  },
  {
   "cell_type": "markdown",
   "id": "f851b3ff-fcad-48ba-936c-d11dfe668d0a",
   "metadata": {},
   "source": [
    "**Jan Knoski**"
   ]
  },
  {
   "cell_type": "markdown",
   "id": "d13d4f28-f887-479d-a042-d52578f001a2",
   "metadata": {},
   "source": [
    "Analyst"
   ]
  },
  {
   "cell_type": "markdown",
   "id": "2290a080-8322-4423-90a5-537d190c3ee6",
   "metadata": {},
   "source": [
    "<i>I am a person interested in data and corresponding analyses. I aim at intensifying my study in this field and become an experienced data scientist in the future. </i>"
   ]
  },
  {
   "cell_type": "markdown",
   "id": "88018f54-7972-4bae-90d4-ef4d37e60ee2",
   "metadata": {},
   "source": [
    "### The subsequent code aims at generating a random integer number between 60 and 80"
   ]
  },
  {
   "cell_type": "code",
   "execution_count": 19,
   "id": "e7c2fd30-6b6c-4489-8e08-511081a1e65f",
   "metadata": {},
   "outputs": [
    {
     "name": "stdout",
     "output_type": "stream",
     "text": [
      "71\n"
     ]
    }
   ],
   "source": [
    "import random\n",
    "\n",
    "Random_int = random.randint(60,80)\n",
    "\n",
    "print(Random_int)"
   ]
  },
  {
   "cell_type": "markdown",
   "id": "74dd3b17-08ec-4a4c-b35a-a0b923e3d363",
   "metadata": {},
   "source": [
    ">Link to Google</a> <a> href=\"https://www.google.com\" "
   ]
  },
  {
   "cell_type": "code",
   "execution_count": null,
   "id": "cd157bde-c7a0-4d54-a1de-cef1802ac81d",
   "metadata": {},
   "outputs": [],
   "source": []
  }
 ],
 "metadata": {
  "kernelspec": {
   "display_name": "Python",
   "language": "python",
   "name": "conda-env-python-py"
  },
  "language_info": {
   "codemirror_mode": {
    "name": "ipython",
    "version": 3
   },
   "file_extension": ".py",
   "mimetype": "text/x-python",
   "name": "python",
   "nbconvert_exporter": "python",
   "pygments_lexer": "ipython3",
   "version": "3.6.13"
  }
 },
 "nbformat": 4,
 "nbformat_minor": 5
}
